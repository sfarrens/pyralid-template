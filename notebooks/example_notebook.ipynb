{
 "cells": [
  {
   "cell_type": "markdown",
   "metadata": {},
   "source": [
    "# Example Notebook\n",
    "\n",
    "This notebook demonstrates how to use the package API."
   ]
  },
  {
   "cell_type": "markdown",
   "metadata": {},
   "source": [
    "## Hello World Example\n",
    "\n",
    "The following cell calls the ``hello_world`` function and prints the output."
   ]
  },
  {
   "cell_type": "code",
   "execution_count": 1,
   "metadata": {},
   "outputs": [
    {
     "name": "stdout",
     "output_type": "stream",
     "text": [
      "Hello World!\n"
     ]
    }
   ],
   "source": [
    "from configure_package_name.example.hello import hello_world\n",
    "\n",
    "print(hello_world())"
   ]
  },
  {
   "cell_type": "markdown",
   "metadata": {},
   "source": [
    "## Stefan-Boltzmann Example\n",
    "\n",
    "The following cell calls the ``StefBoltz`` class and prints the luminosity corresponding to the radius and effective temperature provided."
   ]
  },
  {
   "cell_type": "code",
   "execution_count": 2,
   "metadata": {},
   "outputs": [
    {
     "name": "stdout",
     "output_type": "stream",
     "text": [
      "The luminosity is 3.95e+26w.\n"
     ]
    }
   ],
   "source": [
    "from configure_package_name.example.classes import StefBoltz\n",
    "\n",
    "r_sun = 7e8  # m\n",
    "t_sun = 5800  # K\n",
    "\n",
    "luminosity = StefBoltz(r_sun, t_sun).luminosity()\n",
    "\n",
    "print('The luminosity is {0:.2e}w.'.format(luminosity))\n"
   ]
  }
 ],
 "metadata": {
  "kernelspec": {
   "display_name": "Python 3",
   "language": "python",
   "name": "python3"
  },
  "language_info": {
   "codemirror_mode": {
    "name": "ipython",
    "version": 3
   },
   "file_extension": ".py",
   "mimetype": "text/x-python",
   "name": "python",
   "nbconvert_exporter": "python",
   "pygments_lexer": "ipython3",
   "version": "3.8.5"
  }
 },
 "nbformat": 4,
 "nbformat_minor": 4
}
